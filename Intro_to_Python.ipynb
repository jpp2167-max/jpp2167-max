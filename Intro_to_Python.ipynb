{
  "nbformat": 4,
  "nbformat_minor": 0,
  "metadata": {
    "colab": {
      "provenance": [],
      "include_colab_link": true
    },
    "kernelspec": {
      "name": "python3",
      "display_name": "Python 3"
    },
    "language_info": {
      "name": "python"
    }
  },
  "cells": [
    {
      "cell_type": "markdown",
      "metadata": {
        "id": "view-in-github",
        "colab_type": "text"
      },
      "source": [
        "<a href=\"https://colab.research.google.com/github/jpp2167-max/jpp2167-max/blob/main/Intro_to_Python.ipynb\" target=\"_parent\"><img src=\"https://colab.research.google.com/assets/colab-badge.svg\" alt=\"Open In Colab\"/></a>"
      ]
    },
    {
      "cell_type": "markdown",
      "source": [
        "# Introduction to Python\n",
        "Python is a general-purpose programming language popular among data scientists who work with text data. Learning Python fundamentals is a gateway to analyzing data, creating visualizations, composing interactive websites, scraping the internet, and conducting text analysis. This workshop is an introduction to core programming concepts such as data types, variables, and functions. We will then learn about basic control flow by writing small programs with loops and conditional statements. We will also learn to problem solve, and practice searching for answers and debugging scripts. The workshop wraps up by exposing participants to intermediate tools for further exploration."
      ],
      "metadata": {
        "id": "zul9LPcPaa2f"
      }
    },
    {
      "cell_type": "markdown",
      "source": [
        "## Why Python?\n",
        "\n",
        "- Python works on different platforms (Windows, Mac, Linux, Raspberry Pi, etc).\n",
        "- Python has a simple syntax similar to the English language.\n",
        "- Python has syntax that allows developers to write programs with fewer lines than some other programming languages.\n",
        "- Python runs on an interpreter system, meaning that code can be executed as soon as it is written. This means that prototyping can be very quick.\n",
        "- Python can be treated in a procedural way, an object-oriented way or a functional way.\n",
        "\n",
        "\n",
        "\n",
        "\n",
        "\n",
        "\n"
      ],
      "metadata": {
        "id": "2jySqGhtekEw"
      }
    },
    {
      "cell_type": "markdown",
      "source": [
        "### Python Syntax compared to other programming languages\n",
        "- Python was designed for readability, and has some similarities to the English language with influence from mathematics.\n",
        "- Python uses new lines to complete a command, as opposed to other programming languages which often use semicolons or parentheses.\n",
        "- Python relies on indentation, using whitespace, to define scope; such as the scope of loops, functions and classes. Other programming languages often use curly-brackets for this purpose."
      ],
      "metadata": {
        "id": "8rBfTry2fQH6"
      }
    },
    {
      "cell_type": "markdown",
      "source": [
        "## What is Google Colab?\n",
        "[Google Colab](https://colab.research.google.com/?utm_source=scs-index#scrollTo=qL_eyskFWx18) is a Python environment hosted in the cloud. It is based on the [Jupyter Notebook](https://jupyter.org) interface, designed to allow users to write and execute code, view output, and create visualizations.\n",
        "\n",
        "Since they are hosted in the cloud, Google Colab Notebooks are easy to share and invite others to collaborate."
      ],
      "metadata": {
        "id": "6djCRXYqbP-o"
      }
    },
    {
      "cell_type": "markdown",
      "source": [
        "### Executing a Python command in a Google Colab Notebook\n",
        "\n",
        "When you want to run a new command in your Google Colab Notebook, you will first click the `+ Code` button in the top left corner. This will initiate a new code block. Type your script in the code block, then click on the ` ▶ ` symbol on the right of the code block (you can also use the keyboard shortcut shift + return).\n",
        "\n",
        "Let's try our first command:"
      ],
      "metadata": {
        "id": "Wg-xKDWNf9ce"
      }
    },
    {
      "cell_type": "code",
      "source": [
        "print(\"Hello, World!\")\n"
      ],
      "metadata": {
        "id": "YR-k-qqAaTiL"
      },
      "execution_count": null,
      "outputs": []
    },
    {
      "cell_type": "code",
      "source": [
        "print(\"Hello, World!\")"
      ],
      "metadata": {
        "colab": {
          "base_uri": "https://localhost:8080/"
        },
        "id": "_J1oTPqYASE1",
        "outputId": "def648c6-646d-4fd7-8041-5a2677e95ae7"
      },
      "execution_count": 1,
      "outputs": [
        {
          "output_type": "stream",
          "name": "stdout",
          "text": [
            "Hello, World!\n"
          ]
        }
      ]
    },
    {
      "cell_type": "code",
      "source": [
        "\"Hello, World!\""
      ],
      "metadata": {
        "colab": {
          "base_uri": "https://localhost:8080/",
          "height": 36
        },
        "id": "26Jz0Ca0App7",
        "outputId": "23a20e0f-1a3c-40f5-dacf-829c4dc8429a"
      },
      "execution_count": 2,
      "outputs": [
        {
          "output_type": "execute_result",
          "data": {
            "text/plain": [
              "'Hello, World!'"
            ],
            "application/vnd.google.colaboratory.intrinsic+json": {
              "type": "string"
            }
          },
          "metadata": {},
          "execution_count": 2
        }
      ]
    },
    {
      "cell_type": "markdown",
      "source": [
        "Congrats on running your first Python script!\n",
        "\n",
        "In the command above, we asked Python to display the phrase `\"Hello, World!\"` using the `print()` function. We will get into what functions are in a moment, but just think of `print()` as a way to ask Python to display the result.   \n",
        "\n",
        "Let's try a little math:"
      ],
      "metadata": {
        "id": "bdctpM5ph2Ow"
      }
    },
    {
      "cell_type": "code",
      "source": [
        "print(2 + 3)"
      ],
      "metadata": {
        "colab": {
          "base_uri": "https://localhost:8080/"
        },
        "id": "81Jv9R1pAuLE",
        "outputId": "ee627a5d-2947-4bc6-8da8-1ec150442a59"
      },
      "execution_count": 3,
      "outputs": [
        {
          "output_type": "stream",
          "name": "stdout",
          "text": [
            "5\n"
          ]
        }
      ]
    },
    {
      "cell_type": "code",
      "source": [
        "2 + 3"
      ],
      "metadata": {
        "colab": {
          "base_uri": "https://localhost:8080/"
        },
        "id": "aeemlFEeAyO9",
        "outputId": "fa9b2c67-b77a-4837-b98c-f0d9ed8eadd2"
      },
      "execution_count": 4,
      "outputs": [
        {
          "output_type": "execute_result",
          "data": {
            "text/plain": [
              "5"
            ]
          },
          "metadata": {},
          "execution_count": 4
        }
      ]
    },
    {
      "cell_type": "code",
      "source": [
        "print(\"2 + 3\")"
      ],
      "metadata": {
        "colab": {
          "base_uri": "https://localhost:8080/"
        },
        "id": "z0xPRDbJA4Xu",
        "outputId": "c4da438c-38c3-4d9d-e679-e2df917aeb15"
      },
      "execution_count": 5,
      "outputs": [
        {
          "output_type": "stream",
          "name": "stdout",
          "text": [
            "2 + 3\n"
          ]
        }
      ]
    },
    {
      "cell_type": "code",
      "source": [
        "14 - 10"
      ],
      "metadata": {
        "id": "TcKlDRj-jQxH",
        "colab": {
          "base_uri": "https://localhost:8080/"
        },
        "outputId": "04e32325-4c65-4e2e-872c-2de43bfd1c5b"
      },
      "execution_count": 6,
      "outputs": [
        {
          "output_type": "execute_result",
          "data": {
            "text/plain": [
              "4"
            ]
          },
          "metadata": {},
          "execution_count": 6
        }
      ]
    },
    {
      "cell_type": "code",
      "source": [
        "10 * 10"
      ],
      "metadata": {
        "id": "csKk_0aSjU7b",
        "colab": {
          "base_uri": "https://localhost:8080/"
        },
        "outputId": "9ae06c44-c818-48ea-f8dd-087d1628c9d4"
      },
      "execution_count": 7,
      "outputs": [
        {
          "output_type": "execute_result",
          "data": {
            "text/plain": [
              "100"
            ]
          },
          "metadata": {},
          "execution_count": 7
        }
      ]
    },
    {
      "cell_type": "code",
      "source": [
        "6 / 3"
      ],
      "metadata": {
        "id": "FjC7icPwjYDH",
        "colab": {
          "base_uri": "https://localhost:8080/"
        },
        "outputId": "e3aa4943-ccdc-4549-ace6-6c4e3f99151f"
      },
      "execution_count": 8,
      "outputs": [
        {
          "output_type": "execute_result",
          "data": {
            "text/plain": [
              "2.0"
            ]
          },
          "metadata": {},
          "execution_count": 8
        }
      ]
    },
    {
      "cell_type": "code",
      "source": [
        "3**2"
      ],
      "metadata": {
        "id": "HS42wARijoyH",
        "colab": {
          "base_uri": "https://localhost:8080/"
        },
        "outputId": "d20f2582-1441-4b27-a0e8-7187535c19b2"
      },
      "execution_count": 9,
      "outputs": [
        {
          "output_type": "execute_result",
          "data": {
            "text/plain": [
              "9"
            ]
          },
          "metadata": {},
          "execution_count": 9
        }
      ]
    },
    {
      "cell_type": "code",
      "source": [
        "21 % 4"
      ],
      "metadata": {
        "id": "2Lrpx-_ijcKE",
        "colab": {
          "base_uri": "https://localhost:8080/"
        },
        "outputId": "233724b5-168f-42d0-a003-863e3a3d0bf4"
      },
      "execution_count": 10,
      "outputs": [
        {
          "output_type": "execute_result",
          "data": {
            "text/plain": [
              "1"
            ]
          },
          "metadata": {},
          "execution_count": 10
        }
      ]
    },
    {
      "cell_type": "markdown",
      "source": [
        "The first four operations above are addition, subtraction, multiplication, and division, respectively. The exponent operator is two asterisks (**). The last operation is modulo, or mod, which returns the remainder after division."
      ],
      "metadata": {
        "id": "_i9f0jCxjhbR"
      }
    },
    {
      "cell_type": "markdown",
      "source": [
        "## Python Indentation\n",
        "- Indentation refers to the spaces at the beginning of a code line.\n",
        "- Python uses indentation to indicate a block of code.\n",
        "\n",
        "For example:"
      ],
      "metadata": {
        "id": "g28E90NzkW1o"
      }
    },
    {
      "cell_type": "code",
      "source": [
        "if 5 > 2:\n",
        "  print(\"Five is greater than two!\")"
      ],
      "metadata": {
        "id": "yJaKr452jgIb"
      },
      "execution_count": null,
      "outputs": []
    },
    {
      "cell_type": "code",
      "source": [
        "if 5 > 2:\n",
        "  print(\"Five is greater than two!\")"
      ],
      "metadata": {
        "colab": {
          "base_uri": "https://localhost:8080/"
        },
        "id": "zUbotJbBCmXx",
        "outputId": "f8bd1050-d0e6-4378-b3b3-cbbd98533dc5"
      },
      "execution_count": 14,
      "outputs": [
        {
          "output_type": "stream",
          "name": "stdout",
          "text": [
            "Five is greater than two!\n"
          ]
        }
      ]
    },
    {
      "cell_type": "code",
      "source": [
        "if 5 > 2:\n",
        "  print(\"Five is greater than two!\")\n",
        "else:\n",
        "  print(\"Five is not greater than two!\")"
      ],
      "metadata": {
        "id": "4JnGMsHRkkBO",
        "colab": {
          "base_uri": "https://localhost:8080/"
        },
        "outputId": "541bc038-6259-4c00-f3f6-e1a2bbaa859c"
      },
      "execution_count": 18,
      "outputs": [
        {
          "output_type": "stream",
          "name": "stdout",
          "text": [
            "Five is greater than two!\n"
          ]
        }
      ]
    },
    {
      "cell_type": "markdown",
      "source": [
        "Notice how Python lets you know what type of error occurred. You can use this error message to troubleshoot your code!"
      ],
      "metadata": {
        "id": "PFkNWiyxkqW0"
      }
    },
    {
      "cell_type": "markdown",
      "source": [
        "## Variables\n",
        "\n",
        "Variables are one of the fundamental building blocks of Python. A variable is like a tiny container where you store values and data, such as filenames, words, numbers, collections of words and numbers, and more."
      ],
      "metadata": {
        "id": "MJJe__79lefp"
      }
    },
    {
      "cell_type": "markdown",
      "source": [
        "### Assigning Variables\n",
        "The variable name will point to a value that you “assign” it. You might think about variable assignment like putting a value “into” the variable, as if the variable is a little box."
      ],
      "metadata": {
        "id": "K9bwS5Yt4QrR"
      }
    },
    {
      "cell_type": "code",
      "source": [
        "new_variable = 100\n",
        "print(new_variable)"
      ],
      "metadata": {
        "id": "p1_tN-Fkkl9c",
        "colab": {
          "base_uri": "https://localhost:8080/"
        },
        "outputId": "c74b3b7c-6680-4533-ee64-37dce42b6d02"
      },
      "execution_count": 19,
      "outputs": [
        {
          "output_type": "stream",
          "name": "stdout",
          "text": [
            "100\n"
          ]
        }
      ]
    },
    {
      "cell_type": "markdown",
      "source": [
        "#### Jupyter Display vs Print()\n",
        "We can check to see what’s “inside” these variables by running a cell with the variable’s name. This is one of the handiest features of a Jupyter notebook. Outside the Jupyter environment, you would need to use the print() function to display the variable."
      ],
      "metadata": {
        "id": "Cr5LwSzrmcjs"
      }
    },
    {
      "cell_type": "code",
      "source": [
        "new_variable"
      ],
      "metadata": {
        "id": "nXxd0YNomXtX",
        "colab": {
          "base_uri": "https://localhost:8080/"
        },
        "outputId": "4e2d2bf4-9052-45ed-a85d-a7669cabaf7b"
      },
      "execution_count": 23,
      "outputs": [
        {
          "output_type": "execute_result",
          "data": {
            "text/plain": [
              "100"
            ]
          },
          "metadata": {},
          "execution_count": 23
        }
      ]
    },
    {
      "cell_type": "code",
      "source": [
        "new_variable * 2"
      ],
      "metadata": {
        "colab": {
          "base_uri": "https://localhost:8080/"
        },
        "id": "dfzsAFNvEY_3",
        "outputId": "1a6eb159-d285-4177-db3a-297e3bee0658"
      },
      "execution_count": 24,
      "outputs": [
        {
          "output_type": "execute_result",
          "data": {
            "text/plain": [
              "200"
            ]
          },
          "metadata": {},
          "execution_count": 24
        }
      ]
    },
    {
      "cell_type": "code",
      "source": [
        "text_variable = \"Text\""
      ],
      "metadata": {
        "id": "z2MUgHarEeeM"
      },
      "execution_count": 25,
      "outputs": []
    },
    {
      "cell_type": "code",
      "source": [
        "text_variable * 2"
      ],
      "metadata": {
        "colab": {
          "base_uri": "https://localhost:8080/",
          "height": 36
        },
        "id": "R6yUk1JXEjE0",
        "outputId": "2a31baa1-c1d7-44fe-b4d5-cb5f30545551"
      },
      "execution_count": 26,
      "outputs": [
        {
          "output_type": "execute_result",
          "data": {
            "text/plain": [
              "'TextText'"
            ],
            "application/vnd.google.colaboratory.intrinsic+json": {
              "type": "string"
            }
          },
          "metadata": {},
          "execution_count": 26
        }
      ]
    },
    {
      "cell_type": "markdown",
      "source": [
        "You assign variables with an equals = sign. In Python, a single equals sign = is the “assignment operator.” A double equals sign == is the “real” equals sign."
      ],
      "metadata": {
        "id": "BQ6oQ9LOnJNL"
      }
    },
    {
      "cell_type": "code",
      "source": [
        "2 * 2 == 4"
      ],
      "metadata": {
        "id": "YoLOPzBUl78S",
        "colab": {
          "base_uri": "https://localhost:8080/"
        },
        "outputId": "dfda3036-be5c-4cd7-e769-bdf5495865b6"
      },
      "execution_count": 31,
      "outputs": [
        {
          "output_type": "execute_result",
          "data": {
            "text/plain": [
              "True"
            ]
          },
          "metadata": {},
          "execution_count": 31
        }
      ]
    },
    {
      "cell_type": "markdown",
      "source": [
        "Assignment operator is when you atributes value to a variable\n",
        "\n",
        "e.g.\n",
        "\n",
        "x = 10\n",
        "\n",
        "new_variable = 100 or \"Hello, World!\""
      ],
      "metadata": {
        "id": "YhRaA14TG19S"
      }
    },
    {
      "cell_type": "markdown",
      "source": [
        "You can also store text in a variable:"
      ],
      "metadata": {
        "id": "vZPGMtjynOPK"
      }
    },
    {
      "cell_type": "code",
      "source": [
        "different_variable = \"I'm another variable!\"\n",
        "different_variable"
      ],
      "metadata": {
        "id": "kWqVgi8Bmq3D"
      },
      "execution_count": null,
      "outputs": []
    },
    {
      "cell_type": "code",
      "source": [
        "x = \"Hello\"\n",
        "y= \" and goodbye\"\n",
        "\n",
        "x + y"
      ],
      "metadata": {
        "id": "HU9F-q503Qi2"
      },
      "execution_count": null,
      "outputs": []
    },
    {
      "cell_type": "markdown",
      "source": [
        "### Naming Variables\n",
        "\n",
        "Variable names can be as long or as short as you want, and they can include:\n",
        "- upper and lower-case letters (A-Z), variable names are case sensitive\n",
        "- digits (0-9)\n",
        "- underscores (_)\n",
        "\n",
        "However, variable names cannot include:\n",
        "- other punctuation (-.!?@)\n",
        "- spaces ( )\n",
        "- a reserved Python word (print, True, list, etc...)\n",
        "\n",
        "\n"
      ],
      "metadata": {
        "id": "EwF2SrLlncbo"
      }
    },
    {
      "cell_type": "markdown",
      "source": [
        "#### Striving for Good Variable Names\n",
        "As you start to code, you will almost certainly be tempted to use extremely short variables names like f. You’ll promise yourself that you’ll definitely remember what f means. But you probably won’t.\n",
        "\n",
        "So, resist the temptation of bad variable names! Clear and precisely-named variables will:\n",
        "- make your code more readable (both to yourself and others)\n",
        "- reinforce your understanding of Python and what’s happening in the code\n",
        "- clarify and strengthen your thinking"
      ],
      "metadata": {
        "id": "y5rOkhK_4f37"
      }
    },
    {
      "cell_type": "markdown",
      "source": [
        "## Data Types\n",
        "\n",
        "There are four essential kinds of Python data with different powers and capabilities:\n",
        "- Strings (Text & Numbers in quotation marks)\n",
        "- Integers (Whole Numbers)\n",
        "- Floats (Decimal Numbers)\n",
        "- Booleans (True/False)"
      ],
      "metadata": {
        "id": "afjslLu-pCcu"
      }
    },
    {
      "cell_type": "markdown",
      "source": [
        "You can check the data type of any value by using the function type():"
      ],
      "metadata": {
        "id": "TTUt2UTtqEJ-"
      }
    },
    {
      "cell_type": "code",
      "source": [
        "type(\"Hello, World!\")"
      ],
      "metadata": {
        "id": "fQvsGMz3nTvk",
        "colab": {
          "base_uri": "https://localhost:8080/"
        },
        "outputId": "06c890b4-db85-4553-c6f7-fb8554b0f547"
      },
      "execution_count": 32,
      "outputs": [
        {
          "output_type": "execute_result",
          "data": {
            "text/plain": [
              "str"
            ]
          },
          "metadata": {},
          "execution_count": 32
        }
      ]
    },
    {
      "cell_type": "code",
      "source": [
        "type(55)"
      ],
      "metadata": {
        "id": "j_Gw4TH0qOX8",
        "colab": {
          "base_uri": "https://localhost:8080/"
        },
        "outputId": "69abaf8f-2196-405e-face-2c4f7341fef0"
      },
      "execution_count": 33,
      "outputs": [
        {
          "output_type": "execute_result",
          "data": {
            "text/plain": [
              "int"
            ]
          },
          "metadata": {},
          "execution_count": 33
        }
      ]
    },
    {
      "cell_type": "code",
      "source": [
        "type(2.5)"
      ],
      "metadata": {
        "id": "ibdiPyA-qQM_",
        "colab": {
          "base_uri": "https://localhost:8080/"
        },
        "outputId": "e3cdb51f-155d-450b-b69b-b6efe8a1dd87"
      },
      "execution_count": 34,
      "outputs": [
        {
          "output_type": "execute_result",
          "data": {
            "text/plain": [
              "float"
            ]
          },
          "metadata": {},
          "execution_count": 34
        }
      ]
    },
    {
      "cell_type": "code",
      "source": [
        "type(True)"
      ],
      "metadata": {
        "id": "4e3Fj6Q0qSEE",
        "colab": {
          "base_uri": "https://localhost:8080/"
        },
        "outputId": "c7b84596-6d66-47f3-9f82-b9480bad2ac7"
      },
      "execution_count": 38,
      "outputs": [
        {
          "output_type": "execute_result",
          "data": {
            "text/plain": [
              "bool"
            ]
          },
          "metadata": {},
          "execution_count": 38
        }
      ]
    },
    {
      "cell_type": "code",
      "source": [
        "type('True')"
      ],
      "metadata": {
        "colab": {
          "base_uri": "https://localhost:8080/"
        },
        "id": "6CGECBx0INfC",
        "outputId": "6bffc1b7-8eca-4e2a-e049-e75ce37a2496"
      },
      "execution_count": 41,
      "outputs": [
        {
          "output_type": "execute_result",
          "data": {
            "text/plain": [
              "str"
            ]
          },
          "metadata": {},
          "execution_count": 41
        }
      ]
    },
    {
      "cell_type": "code",
      "source": [
        "type(2==5)"
      ],
      "metadata": {
        "id": "-7cqNM2qh3yQ",
        "colab": {
          "base_uri": "https://localhost:8080/"
        },
        "outputId": "4e39d573-fba1-4c01-a8b0-193c43808b3b"
      },
      "execution_count": 36,
      "outputs": [
        {
          "output_type": "execute_result",
          "data": {
            "text/plain": [
              "bool"
            ]
          },
          "metadata": {},
          "execution_count": 36
        }
      ]
    },
    {
      "cell_type": "markdown",
      "source": [
        "### Strings\n",
        "A string is a Python data type that is treated like text, even if it contains a number. Strings are always enclosed by either single quotation marks `'this is a string'` or double quotation marks `\"this is a string\"`. It doesn’t matter whether you use single or double quotation marks with strings, as long as you use the same kind on either side of the string.\n",
        "\n",
        "\n"
      ],
      "metadata": {
        "id": "UoM4no8MdvZh"
      }
    },
    {
      "cell_type": "code",
      "source": [
        "type('55')"
      ],
      "metadata": {
        "id": "cinm2iopqU_a",
        "colab": {
          "base_uri": "https://localhost:8080/"
        },
        "outputId": "69d74eaa-934c-4459-c7c2-0950d90e37e7"
      },
      "execution_count": 42,
      "outputs": [
        {
          "output_type": "execute_result",
          "data": {
            "text/plain": [
              "str"
            ]
          },
          "metadata": {},
          "execution_count": 42
        }
      ]
    },
    {
      "cell_type": "code",
      "source": [
        "type(\"Strings can contain both letters, numbers (e.g., 5), punctuation, and special characters (e.g., @)\")"
      ],
      "metadata": {
        "id": "zxRyJiSiqa0k",
        "colab": {
          "base_uri": "https://localhost:8080/"
        },
        "outputId": "a157464f-790b-47b4-f244-fb7355603a9d"
      },
      "execution_count": 43,
      "outputs": [
        {
          "output_type": "execute_result",
          "data": {
            "text/plain": [
              "str"
            ]
          },
          "metadata": {},
          "execution_count": 43
        }
      ]
    },
    {
      "cell_type": "markdown",
      "source": [
        "### f-Strings\n",
        "A special kind of string that we’re going to use in this class is called an `f-string`. An f-string, short for formatted string literal, allows you to insert a variable directly into a string. f-strings were introduced with Python version 3.6.\n",
        "\n",
        "An f-string must begin with an f outside the quotation marks. Then, inside the quotation marks, the inserted variable must be placed within `curly brackets {}`.\n",
        "\n",
        "Let's define a variable first:"
      ],
      "metadata": {
        "id": "ryd5VUPxfQ1C"
      }
    },
    {
      "cell_type": "code",
      "source": [
        "greeting = \"Good morning!\""
      ],
      "metadata": {
        "id": "egEvNls3gW8v"
      },
      "execution_count": 47,
      "outputs": []
    },
    {
      "cell_type": "code",
      "source": [
        "print(f\"At the start of the day people say : \\n\\n'{greeting}'\")"
      ],
      "metadata": {
        "colab": {
          "base_uri": "https://localhost:8080/"
        },
        "id": "UrdM8D-NJsHc",
        "outputId": "e4086868-a06d-44b3-f4db-e343621921a2"
      },
      "execution_count": 49,
      "outputs": [
        {
          "output_type": "stream",
          "name": "stdout",
          "text": [
            "At the start of the day people say : \n",
            "\n",
            "'Good morning!'\n"
          ]
        }
      ]
    },
    {
      "cell_type": "markdown",
      "source": [
        "*\\n\\n means to jump a line*"
      ],
      "metadata": {
        "id": "n0sc7TBNJ_4v"
      }
    },
    {
      "cell_type": "code",
      "source": [
        "print(f\"At the start of the day people say : {greeting}\")"
      ],
      "metadata": {
        "colab": {
          "base_uri": "https://localhost:8080/"
        },
        "id": "PUT4VauMJkgE",
        "outputId": "afc4970f-39f7-4cb0-f6db-e1cdf0cd517b"
      },
      "execution_count": 48,
      "outputs": [
        {
          "output_type": "stream",
          "name": "stdout",
          "text": [
            "At the start of the day people say : Good morning!\n"
          ]
        }
      ]
    },
    {
      "cell_type": "markdown",
      "source": [
        "### Let's pratice!\n",
        "\n",
        "Work with your neighbor to assign values to the following variables. Add a new variable called `favorite_movie` and update the `f-string` to include a new sentence about your partner’s favorite movie."
      ],
      "metadata": {
        "id": "SJLH-cBxk-xO"
      }
    },
    {
      "cell_type": "code",
      "source": [
        "name = \"João Palermo\"\n",
        "age = 28\n",
        "home_town = \"São Paulo\"\n",
        "favorite_food = \"Pizza\"\n",
        "dog_years_age = age * 7.5\n",
        "student = True #boolean\n",
        "favorite_movie = \"Star Wars\""
      ],
      "metadata": {
        "id": "c7z9Y45ilV7_"
      },
      "execution_count": 63,
      "outputs": []
    },
    {
      "cell_type": "code",
      "source": [
        "print(f'✨This is...{name}!✨')\n",
        "\n",
        "print(f\"\"\"{name} likes {favorite_food} and grew up in {home_town}.\n",
        "{name} is {age} years old, which is {dog_years_age} in dog years.\n",
        "The statement \"{name} is a student\" is {student}.\n",
        "{favorite_movie} rocks \"\"\")"
      ],
      "metadata": {
        "id": "qxNQTwQ4lea3",
        "collapsed": true,
        "colab": {
          "base_uri": "https://localhost:8080/"
        },
        "outputId": "2ea77c19-43d5-42b8-9cc7-03fb8500b0d0"
      },
      "execution_count": 64,
      "outputs": [
        {
          "output_type": "stream",
          "name": "stdout",
          "text": [
            "✨This is...João Palermo!✨\n",
            "João Palermo likes Pizza and grew up in São Paulo.\n",
            "João Palermo is 28 years old, which is 210.0 in dog years.\n",
            "The statement \"João Palermo is a student\" is True.\n",
            "Star Wars rocks \n"
          ]
        }
      ]
    },
    {
      "cell_type": "markdown",
      "source": [
        "*f\"\"\" --> puts the answer in multiples lines instead of a big single one*"
      ],
      "metadata": {
        "id": "CMaaxWDqMihD"
      }
    },
    {
      "cell_type": "markdown",
      "source": [
        "## Comments\n",
        "\n",
        "Notice how in the exercise above some of the code begins with `#`? This is what is called a comment and Python knows to ignore what comes after the `#`.\n",
        "\n",
        "Comments can be used:\n",
        "- to explain Python code.\n",
        "- to make the code more readable.\n",
        "- to prevent execution when testing code.\n",
        "\n"
      ],
      "metadata": {
        "id": "WRQim5SzmkNF"
      }
    },
    {
      "cell_type": "code",
      "source": [
        "#This is a comment\n",
        "print(\"Hello, World!\")"
      ],
      "metadata": {
        "id": "v-K23omvm_t7",
        "colab": {
          "base_uri": "https://localhost:8080/"
        },
        "outputId": "a56ef4c3-b920-4f77-afbb-242b1288db42"
      },
      "execution_count": 65,
      "outputs": [
        {
          "output_type": "stream",
          "name": "stdout",
          "text": [
            "Hello, World!\n"
          ]
        }
      ]
    },
    {
      "cell_type": "code",
      "source": [
        "print(\"Hello, World!\") #Comments can be placed at the end of a line"
      ],
      "metadata": {
        "id": "5kePYjUNnEEY",
        "colab": {
          "base_uri": "https://localhost:8080/"
        },
        "outputId": "c5175d2a-c705-4b6b-fd32-8a6262ab52aa"
      },
      "execution_count": 66,
      "outputs": [
        {
          "output_type": "stream",
          "name": "stdout",
          "text": [
            "Hello, World!\n"
          ]
        }
      ]
    },
    {
      "cell_type": "code",
      "source": [
        "#A comment does not have to be text that explains the code, it can also be used to prevent Python from executing code:\n",
        "\n",
        "#print(\"Hello, World!\")\n",
        "print(\"Cheers, Mate!\")"
      ],
      "metadata": {
        "id": "SPUGYJi2nL3C",
        "colab": {
          "base_uri": "https://localhost:8080/"
        },
        "outputId": "8ac16b84-f7ab-43d0-e246-8cd07530e6a3"
      },
      "execution_count": 67,
      "outputs": [
        {
          "output_type": "stream",
          "name": "stdout",
          "text": [
            "Cheers, Mate!\n"
          ]
        }
      ]
    },
    {
      "cell_type": "markdown",
      "source": [
        "## Functions\n",
        "\n",
        "Broadly defined, a `function` is a block of reusable code that performs a specific task. Often, a function takes an input, transforms the input, and returns an output.\n",
        "\n",
        "Imagine, for instance, a penny press at a popular tourist attraction that accepts a penny (the input), flattens and embosses the penny (the transformation), and spits out an elongated coin with a new design, perhaps an image of the Statue of Liberty (the output)!\n",
        "\n",
        "Or, for those of you who remember high school algebra, the function f(x) = x + 1 means that given an input x, the function will return x + 1. For example, if I substituted 2 for x, my function would read f(2) = 2 + 1, or f(2) = 3. In this case, my input was 2, the transformation was to add 1, and the output was 3.\n",
        "\n",
        "These are the basic concepts that make up a function in Python as well!\n",
        "\n"
      ],
      "metadata": {
        "id": "Oy4zGxslrtKE"
      }
    },
    {
      "cell_type": "markdown",
      "source": [
        "### Writing Your First Function\n",
        "Let's write a Python function that prints the output from our algebraic equation `f(x) = x + 1` above. Try running the code in the code block below."
      ],
      "metadata": {
        "id": "GptEVtOn5OEx"
      }
    },
    {
      "cell_type": "code",
      "source": [
        "def add_one(x):\n",
        "  print(x + 1)\n",
        "add_one(2)"
      ],
      "metadata": {
        "id": "cIlM5pJqscgP"
      },
      "execution_count": null,
      "outputs": []
    },
    {
      "cell_type": "markdown",
      "source": [
        "*def --> short for define*"
      ],
      "metadata": {
        "id": "IXJb2-4rTYOb"
      }
    },
    {
      "cell_type": "code",
      "source": [
        "def add_one(x):\n",
        "  print(x + 1)\n",
        "add_one(1)"
      ],
      "metadata": {
        "colab": {
          "base_uri": "https://localhost:8080/"
        },
        "id": "sV6f_vmETKZH",
        "outputId": "a484236d-1b94-433f-e299-f472b2029688"
      },
      "execution_count": 74,
      "outputs": [
        {
          "output_type": "stream",
          "name": "stdout",
          "text": [
            "2\n"
          ]
        }
      ]
    },
    {
      "cell_type": "code",
      "source": [
        "def add_one(x):\n",
        "  print(x + 1)\n",
        "add_one(3)"
      ],
      "metadata": {
        "colab": {
          "base_uri": "https://localhost:8080/"
        },
        "id": "cShj85ZFTo2m",
        "outputId": "1e0664be-540e-4d1a-b208-b4d58764c212"
      },
      "execution_count": 75,
      "outputs": [
        {
          "output_type": "stream",
          "name": "stdout",
          "text": [
            "4\n"
          ]
        }
      ]
    },
    {
      "cell_type": "markdown",
      "source": [
        "As output, you should get the number 3. Let's break this code down to understand how it works.\n",
        "\n",
        "First, we create a function:\n",
        "\n",
        "```python\n",
        "def add_one(x):\n",
        "  print(x + 1)\n",
        "```\n",
        "\n",
        "When creating a function, we begin by writing `def` before our chosen function name.\n",
        "\n",
        "The function name is typically descriptive in nature. We named the above function `add_one` following Python naming conventions, as the function will be ADDING 1 to our inputted integer.\n",
        "\n",
        "We always need a closed parentheses `()` after our function name, which in this case, takes one `argument` (or input), which we will temporarily call `x` (we can name this parameter whatever we want, as long as we use the same name within the body of the function).\n",
        "\n",
        "Then, we end the first line with a `:`, return, and indent by 2 spaces to write code describing what this function should \"do.\" In this case, we want the function to `print` the result of adding 1 to our input, or x. Remember, we need parentheses every time we print something!\n",
        "\n",
        "Next, if we want to call our function, we will need to actually pass in an argument to see a result. To do so, we write the following line of code below our function (making sure this next line isn't indented):\n",
        "\n",
        "```python\n",
        "add_one(2)\n",
        "```\n",
        "\n",
        "Here, we are telling the computer to pass in `2` to see if we get our expected output of `3`.\n",
        "\n",
        "Creating a whole function just to add \"one\" to something may seem unnecessarily complicated, but once you have learned the basics of function-writing, the possibilities are powerful and limitless!\n",
        "\n"
      ],
      "metadata": {
        "id": "8OOtTcNCtknQ"
      }
    },
    {
      "cell_type": "markdown",
      "source": [
        "### Writing your Second Function\n",
        "\n",
        "Our functions do not have to be \"mathematical\" in nature. Let's say that I wanted to say a friendly hello, but didn't want to type out a long sentence every time I wanted to do so. We could automate this process with a function. In the code block below, write the following lines:\n",
        "\n",
        "```python\n",
        "def greet():\n",
        "    print(\"Hello! How are you today?\")\n",
        "greet()\n",
        "```\n",
        "\n",
        "First we define our `greet()` function, and add a line to print to the screen.\n",
        "\n",
        "Lastly, we call the function so it will run.\n",
        "\n",
        "You might have noticed that this time, we didn't pass in an `argument`! Note that a function doesn't have to take an input (or argument), or it can take several arguments!\n",
        "\n",
        "There is a lot of flexibility involved in writing your own functions, which you can craft carefully to do exactly what you want them to! Read more about some of the many things you can do with functions on the online web tutorial [W3Schools](https://www.w3schools.com/python/python_functions.asp)."
      ],
      "metadata": {
        "id": "XV_ZxHEY7QLf"
      }
    },
    {
      "cell_type": "code",
      "source": [
        "def greet():\n",
        "    print(\"Hello! How are you today?\")\n",
        "greet()"
      ],
      "metadata": {
        "id": "M3t3dFvAvF_Y",
        "colab": {
          "base_uri": "https://localhost:8080/"
        },
        "outputId": "85395488-ba4f-4a64-f28b-9fe65e588d98"
      },
      "execution_count": 76,
      "outputs": [
        {
          "output_type": "stream",
          "name": "stdout",
          "text": [
            "Hello! How are you today?\n"
          ]
        }
      ]
    },
    {
      "cell_type": "code",
      "source": [
        "def greet():\n",
        "    print(\"Hello! How are you today?\")"
      ],
      "metadata": {
        "id": "0SJpIAj-UAZ7"
      },
      "execution_count": 77,
      "outputs": []
    },
    {
      "cell_type": "code",
      "source": [
        "greet()"
      ],
      "metadata": {
        "colab": {
          "base_uri": "https://localhost:8080/"
        },
        "id": "SRXa9Lg-UB4y",
        "outputId": "47c1dbd4-d3aa-4585-d1f9-adf7019ace53"
      },
      "execution_count": 78,
      "outputs": [
        {
          "output_type": "stream",
          "name": "stdout",
          "text": [
            "Hello! How are you today?\n"
          ]
        }
      ]
    },
    {
      "cell_type": "markdown",
      "source": [
        "#### Challenge!\n",
        "\n",
        "How could we change our greeting function to say hello to a specific person? Hint: your `print` statement will need to use string interpolation. We did this in \"Variables\" when we assigned x = \"hello\" and y =\" and goodbye\", which x + y yielded the result \"hello and goodbye\". Give it a shot in the editor below."
      ],
      "metadata": {
        "id": "H_ZHAj-625OC"
      }
    },
    {
      "cell_type": "code",
      "source": [
        "def greet_name(name):\n",
        "  print(f\"Hello {name}. How are you today?\")\n",
        "greet_name(\"João\")"
      ],
      "metadata": {
        "id": "-6978cAoCWZi",
        "colab": {
          "base_uri": "https://localhost:8080/"
        },
        "outputId": "6e75e86b-3b40-48b8-9798-c801afb755e9"
      },
      "execution_count": 79,
      "outputs": [
        {
          "output_type": "stream",
          "name": "stdout",
          "text": [
            "Hello João. How are you today?\n"
          ]
        }
      ]
    },
    {
      "cell_type": "markdown",
      "source": [
        "### Parameters/Arguments\n",
        "\n",
        "You can add `parameters` to your functions—or values that are required by your function—by putting `parameter` names inside the `parenthese`s.\n",
        "\n",
        "For example, we could write a birthday song function and include a specific person's name by adding the parameter `personalized_name` inside the parentheses, which will require a personalized name to be passed to the function. The thing you pass to the function is called an \"argument.\"\n",
        "\n",
        "- parameter = `personalized_name` (thing that requires a value for the function)\n",
        "- argument = \"Beyonce\" (actual value passed to function)\n",
        "\n",
        "Since parameters and arguments are so interrelated, they're sometimes confused for each other. You can read [Python's official distinction here](https://docs.python.org/3.3/faq/programming.html#faq-argument-vs-parameter)."
      ],
      "metadata": {
        "id": "vRGmKDinAYyD"
      }
    },
    {
      "cell_type": "code",
      "source": [
        "def sing_personalized_happy_birthday(personalized_name):\n",
        "    print(\"Happy Birthday to you\")\n",
        "    print(\"Happy Birthday to you\")\n",
        "    print(f\"Happy Birthday dear {personalized_name}\")\n",
        "    print(\"Happy Birthday to you\")\n",
        "    return"
      ],
      "metadata": {
        "id": "syYiDtxTAg03"
      },
      "execution_count": null,
      "outputs": []
    },
    {
      "cell_type": "markdown",
      "source": [
        "We're using whatever name gets passed to the function inside an f-string: `f\"Happy Birthday dear {personalized_name}\"`"
      ],
      "metadata": {
        "id": "QQQ7r24AAmW-"
      }
    },
    {
      "cell_type": "markdown",
      "source": [
        "Once you set a parameter that requires an argument, you have to pass something inside the function for the function to run. So if we run `sing_personalized_happy_birthday()` as we did with `sing_happy_birthday()`, it won't work."
      ],
      "metadata": {
        "id": "xTdNhZVeArOz"
      }
    },
    {
      "cell_type": "code",
      "source": [
        "sing_personalized_happy_birthday()"
      ],
      "metadata": {
        "id": "y9mgCiRcAtY8"
      },
      "execution_count": null,
      "outputs": []
    },
    {
      "cell_type": "markdown",
      "source": [
        "This error is telling us that we have to pass in a value or \"argument.\""
      ],
      "metadata": {
        "id": "2b6IXKW6A06L"
      }
    },
    {
      "cell_type": "code",
      "source": [
        "sing_personalized_happy_birthday(\"Beyonce\")"
      ],
      "metadata": {
        "id": "jv6V7hp6A1cm"
      },
      "execution_count": null,
      "outputs": []
    },
    {
      "cell_type": "markdown",
      "source": [
        "### Keyword Arguments\n",
        "There's another way that you can require arguments in a function, which is with *keyword arguments*. Before we were using \"positional arguments,\" where the function automatically knew that \"Beyonce\" was the `personalized_name` argument simply because \"Beyonce\" was in the right position. (There was only one argument required)\n",
        "\n",
        "But you can also explicitly define your arguments with keyword arguments that use an `=` sign, which can become more useful if you have multiple parameters. This can also be a way of setting default values in your functions."
      ],
      "metadata": {
        "id": "_QG8hm-tBAwd"
      }
    },
    {
      "cell_type": "code",
      "source": [
        "def sing_keyword_happy_birthday(\n",
        "    to_name='Beyonce',\n",
        "    from_name='SIPA'):\n",
        "    print(\"Happy Birthday to you\")\n",
        "    print(\"Happy Birthday to you\")\n",
        "    print(f\"Happy Birthday dear {to_name}\")\n",
        "    print(\"Happy Birthday to you\")\n",
        "    print(f\"\\nSincerely, \\n{from_name}\")\n",
        "    return"
      ],
      "metadata": {
        "id": "Uw2D-EDIBrFh"
      },
      "execution_count": 87,
      "outputs": []
    },
    {
      "cell_type": "markdown",
      "source": [
        "For example, if we don't pass in any arguments into this function, it will use the default arguments."
      ],
      "metadata": {
        "id": "E2PzMjT4CI8i"
      }
    },
    {
      "cell_type": "code",
      "source": [
        "sing_keyword_happy_birthday()"
      ],
      "metadata": {
        "id": "OFNyl-ZQB2_U",
        "colab": {
          "base_uri": "https://localhost:8080/"
        },
        "outputId": "8606768c-1fd6-4197-94c0-3bd4f7dc5944"
      },
      "execution_count": 88,
      "outputs": [
        {
          "output_type": "stream",
          "name": "stdout",
          "text": [
            "Happy Birthday to you\n",
            "Happy Birthday to you\n",
            "Happy Birthday dear Beyonce\n",
            "Happy Birthday to you\n",
            "\n",
            "Sincerely, \n",
            "SIPA\n"
          ]
        }
      ]
    },
    {
      "cell_type": "markdown",
      "source": [
        "if we set the keyword arguments to different values—even if we switch the order or position of the arguments!—the function will know which arguments they're supposed to be."
      ],
      "metadata": {
        "id": "hXjAt8P-CDLN"
      }
    },
    {
      "cell_type": "code",
      "source": [
        "sing_keyword_happy_birthday(from_name=\"Big Bird\", to_name=\"Cookie Monster\")"
      ],
      "metadata": {
        "id": "cxi-yx3WCEP5",
        "colab": {
          "base_uri": "https://localhost:8080/"
        },
        "outputId": "cf63e3fc-82fd-42d9-b5aa-00a3c563f9cc"
      },
      "execution_count": 89,
      "outputs": [
        {
          "output_type": "stream",
          "name": "stdout",
          "text": [
            "Happy Birthday to you\n",
            "Happy Birthday to you\n",
            "Happy Birthday dear Cookie Monster\n",
            "Happy Birthday to you\n",
            "\n",
            "Sincerely, \n",
            "Big Bird\n"
          ]
        }
      ]
    },
    {
      "cell_type": "markdown",
      "source": [
        "### Return Values\n",
        "\n",
        "In all of the examples above, we weren't returning any specific value, just using `print()` statements. But sometimes you want a specific value out of your function.\n",
        "\n",
        "`print` is a function you call. Calling `print` will immediately make your program write out text for you to see. Use `print` when you want to show a value to a human.\n",
        "\n",
        "`return` is a keyword. When a `return` statement is reached, Python will stop the execution of the current function, sending a value out to where the function was called. Use `return` when you want to send a value from one point in your code to another.\n",
        "\n",
        "Using `return` changes the flow of the program. Using `print` does not.\n",
        "\n",
        "For example, if we want to make a function that transforms a bit of text into very loud-sounding text, then we'll want to `return` that loud-sounding text."
      ],
      "metadata": {
        "id": "g1u7hyYICY-M"
      }
    },
    {
      "cell_type": "code",
      "source": [
        "def make_text_shouty(text):\n",
        "    shouty_text = text.upper()\n",
        "    return shouty_text"
      ],
      "metadata": {
        "id": "D3W7IWQHCzvY"
      },
      "execution_count": 90,
      "outputs": []
    },
    {
      "cell_type": "code",
      "source": [
        "def make_text_shouty(text):\n",
        "    shouty_text = text.upper()\n",
        "    print(shouty_text)"
      ],
      "metadata": {
        "id": "wP9SBTneZn6L"
      },
      "execution_count": 94,
      "outputs": []
    },
    {
      "cell_type": "markdown",
      "source": [
        "*It's the same using \"Print\" or \"Return\", although \"Return\" is faster and more common to be used in functions*"
      ],
      "metadata": {
        "id": "cL_HQRsmZtvV"
      }
    },
    {
      "cell_type": "code",
      "source": [
        "make_text_shouty(\"I like tacos\")"
      ],
      "metadata": {
        "id": "lOfBf169C2Eo",
        "colab": {
          "base_uri": "https://localhost:8080/"
        },
        "outputId": "9acdfa00-e36f-4eaa-bad8-a332eb7fa7be"
      },
      "execution_count": 95,
      "outputs": [
        {
          "output_type": "stream",
          "name": "stdout",
          "text": [
            "I LIKE TACOS\n"
          ]
        }
      ]
    },
    {
      "cell_type": "code",
      "source": [
        "\"hello\".upper()"
      ],
      "metadata": {
        "colab": {
          "base_uri": "https://localhost:8080/",
          "height": 36
        },
        "id": "tTp785WmaDVC",
        "outputId": "a64737a4-e1e5-4856-c669-215326980825"
      },
      "execution_count": 96,
      "outputs": [
        {
          "output_type": "execute_result",
          "data": {
            "text/plain": [
              "'HELLO'"
            ],
            "application/vnd.google.colaboratory.intrinsic+json": {
              "type": "string"
            }
          },
          "metadata": {},
          "execution_count": 96
        }
      ]
    },
    {
      "cell_type": "code",
      "source": [
        "def make_text_shoutier(text):\n",
        "    shouty_text = text.upper()\n",
        "    shoutier_text = shouty_text + '!!!'\n",
        "    return shoutier_text"
      ],
      "metadata": {
        "id": "aQk5gOoQC4Qc"
      },
      "execution_count": 92,
      "outputs": []
    },
    {
      "cell_type": "code",
      "source": [
        "make_text_shoutier(\"I like tacos\")"
      ],
      "metadata": {
        "id": "85AO3rG8C6kB",
        "colab": {
          "base_uri": "https://localhost:8080/",
          "height": 36
        },
        "outputId": "a58b0ca0-4b03-46a6-c49f-a4cdaaa68451"
      },
      "execution_count": 93,
      "outputs": [
        {
          "output_type": "execute_result",
          "data": {
            "text/plain": [
              "'I LIKE TACOS!!!'"
            ],
            "application/vnd.google.colaboratory.intrinsic+json": {
              "type": "string"
            }
          },
          "metadata": {},
          "execution_count": 93
        }
      ]
    },
    {
      "cell_type": "code",
      "source": [
        "def calculate_dog_years_age(age):\n",
        "    dog_years_age = age * 7\n",
        "    return dog_years_age"
      ],
      "metadata": {
        "id": "EqjIQOKOC9pL"
      },
      "execution_count": null,
      "outputs": []
    },
    {
      "cell_type": "code",
      "source": [
        "calculate_dog_years_age(52)"
      ],
      "metadata": {
        "id": "KLZzqM2WDAHY"
      },
      "execution_count": null,
      "outputs": []
    },
    {
      "cell_type": "code",
      "source": [
        "def shouty_function_mult(x, y):\n",
        "  return x.upper() + y.upper()\n",
        "shouty_function_mult(\"hello\", \"world\")"
      ],
      "metadata": {
        "colab": {
          "base_uri": "https://localhost:8080/",
          "height": 36
        },
        "id": "TdIpIXr6b88O",
        "outputId": "5a2126f0-6aca-49f9-d06c-a814c033a6b8"
      },
      "execution_count": 102,
      "outputs": [
        {
          "output_type": "execute_result",
          "data": {
            "text/plain": [
              "'HELLOWORLD'"
            ],
            "application/vnd.google.colaboratory.intrinsic+json": {
              "type": "string"
            }
          },
          "metadata": {},
          "execution_count": 102
        }
      ]
    },
    {
      "cell_type": "markdown",
      "source": [
        "#### Challenge!\n",
        "\n",
        "Make a function called `make_text_whispery` that transforms text to lower case"
      ],
      "metadata": {
        "id": "zwo8EBApDI-5"
      }
    },
    {
      "cell_type": "code",
      "source": [
        "def make_text_whispery(text):\n",
        "    whispery_text = text.lower()\n",
        "    return whispery_text"
      ],
      "metadata": {
        "id": "hLHiW3rTDQxZ"
      },
      "execution_count": 103,
      "outputs": []
    },
    {
      "cell_type": "markdown",
      "source": [
        "Now insert the string \"I AM WHISPERING\" into `make_text_whispery`"
      ],
      "metadata": {
        "id": "FV43CHI4DTik"
      }
    },
    {
      "cell_type": "code",
      "source": [
        "make_text_whispery(\"I AM WHISPERING\")"
      ],
      "metadata": {
        "id": "j07JP6ADDT56",
        "colab": {
          "base_uri": "https://localhost:8080/",
          "height": 36
        },
        "outputId": "5fdcc2b7-9226-4959-89d4-595385a1bf4f"
      },
      "execution_count": 104,
      "outputs": [
        {
          "output_type": "execute_result",
          "data": {
            "text/plain": [
              "'i am whispering'"
            ],
            "application/vnd.google.colaboratory.intrinsic+json": {
              "type": "string"
            }
          },
          "metadata": {},
          "execution_count": 104
        }
      ]
    },
    {
      "cell_type": "markdown",
      "source": [
        "## Lists\n",
        "\n",
        "One of the most common Python data collections is a `list`. Lists are a collection of values rather than individual variables.\n",
        "\n",
        "For example, we can create a list of major cities:\n",
        "\n"
      ],
      "metadata": {
        "id": "WpPK4qV358TO"
      }
    },
    {
      "cell_type": "code",
      "source": [
        "cities = ['Paris', 'New York', 'London', 'Tokyo', 'Istanbul']"
      ],
      "metadata": {
        "id": "72gOWsyx6i5r"
      },
      "execution_count": 108,
      "outputs": []
    },
    {
      "cell_type": "code",
      "source": [
        "type(cities)"
      ],
      "metadata": {
        "id": "lCcbwkhy6whM",
        "colab": {
          "base_uri": "https://localhost:8080/"
        },
        "outputId": "b371ced5-98c0-485c-fcaf-47af9b4df6de"
      },
      "execution_count": 106,
      "outputs": [
        {
          "output_type": "execute_result",
          "data": {
            "text/plain": [
              "list"
            ]
          },
          "metadata": {},
          "execution_count": 106
        }
      ]
    },
    {
      "cell_type": "code",
      "source": [
        "cities"
      ],
      "metadata": {
        "id": "mK5L7HsR7pQE",
        "colab": {
          "base_uri": "https://localhost:8080/"
        },
        "outputId": "b7a25d07-e582-4ce6-8c20-e8381dff0caf"
      },
      "execution_count": 107,
      "outputs": [
        {
          "output_type": "execute_result",
          "data": {
            "text/plain": [
              "['Paris', 'New York', 'London', 'Tokyo', 'Istanbul']"
            ]
          },
          "metadata": {},
          "execution_count": 107
        }
      ]
    },
    {
      "cell_type": "markdown",
      "source": [
        "A list is always enclosed by square brackets `[]` and accepts items in a row separated by commas `(,)`. A list can contain any combination of Python data types."
      ],
      "metadata": {
        "id": "Zsm79HlC62he"
      }
    },
    {
      "cell_type": "code",
      "source": [
        "random_list = ['Python', 3, 10.5, True]\n",
        "type(random_list)"
      ],
      "metadata": {
        "id": "Q90Do8ap6857",
        "colab": {
          "base_uri": "https://localhost:8080/"
        },
        "outputId": "a680e5fa-484a-4bf7-f432-8f0477bede98"
      },
      "execution_count": 109,
      "outputs": [
        {
          "output_type": "execute_result",
          "data": {
            "text/plain": [
              "list"
            ]
          },
          "metadata": {},
          "execution_count": 109
        }
      ]
    },
    {
      "cell_type": "code",
      "source": [
        "random_list"
      ],
      "metadata": {
        "id": "yI3c5YEc7rz6",
        "colab": {
          "base_uri": "https://localhost:8080/"
        },
        "outputId": "16fff218-95fc-4230-f117-63c8445ceb09"
      },
      "execution_count": 110,
      "outputs": [
        {
          "output_type": "execute_result",
          "data": {
            "text/plain": [
              "['Python', 3, 10.5, True]"
            ]
          },
          "metadata": {},
          "execution_count": 110
        }
      ]
    },
    {
      "cell_type": "markdown",
      "source": [
        "### Indexing Lists\n",
        "\n",
        "A useful property of a list is the `list index`. This allows you to pick out an item from within the list by a number starting from zero:\n",
        "\n",
        "For instance, add the following lines of code to the program below:\n",
        "\n",
        "```python\n",
        "print(cities[0])\n",
        "print(cities[4])\n",
        "```\n",
        "\n",
        "What do you notice?"
      ],
      "metadata": {
        "id": "BiW2yqo5715v"
      }
    },
    {
      "cell_type": "code",
      "source": [
        "cities[0]"
      ],
      "metadata": {
        "id": "LUPM7sGC8FC4",
        "colab": {
          "base_uri": "https://localhost:8080/",
          "height": 36
        },
        "outputId": "d805bbec-81f9-4a2b-ce91-ecb6d7d5d430"
      },
      "execution_count": 111,
      "outputs": [
        {
          "output_type": "execute_result",
          "data": {
            "text/plain": [
              "'Paris'"
            ],
            "application/vnd.google.colaboratory.intrinsic+json": {
              "type": "string"
            }
          },
          "metadata": {},
          "execution_count": 111
        }
      ]
    },
    {
      "cell_type": "code",
      "source": [
        "cities[4]"
      ],
      "metadata": {
        "id": "RRZBNZ8V8Qcu",
        "colab": {
          "base_uri": "https://localhost:8080/",
          "height": 36
        },
        "outputId": "f0061c87-d9bb-4b70-a484-49f4dd441ceb"
      },
      "execution_count": 112,
      "outputs": [
        {
          "output_type": "execute_result",
          "data": {
            "text/plain": [
              "'Istanbul'"
            ],
            "application/vnd.google.colaboratory.intrinsic+json": {
              "type": "string"
            }
          },
          "metadata": {},
          "execution_count": 112
        }
      ]
    },
    {
      "cell_type": "markdown",
      "source": [
        "Indexing lets us get at individual items from a particular list. Note that the first item in the list is `item[0]`. The second item is `item[1]`. That's because counting in Python, and in almost all programming languages, starts from 0.\n",
        "\n",
        "Additionally, you can print out the last item in a list using negative numbers, where `-1` denotes the last item in the list. For instance, if you were to add:\n",
        "\n",
        "```python\n",
        "print(cities[-1])\n",
        "```\n",
        "\n",
        "\n",
        "to the cities program, it would print the last item in the cities list. `-2` would print the second to last item, `-3` the third to last, and so on."
      ],
      "metadata": {
        "id": "cwcJb1Xv9yZm"
      }
    },
    {
      "cell_type": "code",
      "source": [
        "cities[-1]"
      ],
      "metadata": {
        "id": "KbbubGVC97u-",
        "colab": {
          "base_uri": "https://localhost:8080/",
          "height": 36
        },
        "outputId": "2a0bafaa-a2b0-44d0-97f7-d8daf10d57f6"
      },
      "execution_count": 113,
      "outputs": [
        {
          "output_type": "execute_result",
          "data": {
            "text/plain": [
              "'Istanbul'"
            ],
            "application/vnd.google.colaboratory.intrinsic+json": {
              "type": "string"
            }
          },
          "metadata": {},
          "execution_count": 113
        }
      ]
    },
    {
      "cell_type": "code",
      "source": [
        "cities[-2]"
      ],
      "metadata": {
        "id": "vcP54cSK9-qy",
        "colab": {
          "base_uri": "https://localhost:8080/",
          "height": 36
        },
        "outputId": "edc9b65a-bd52-43a8-ed8e-aa385df5a5a9"
      },
      "execution_count": 114,
      "outputs": [
        {
          "output_type": "execute_result",
          "data": {
            "text/plain": [
              "'Tokyo'"
            ],
            "application/vnd.google.colaboratory.intrinsic+json": {
              "type": "string"
            }
          },
          "metadata": {},
          "execution_count": 114
        }
      ]
    },
    {
      "cell_type": "markdown",
      "source": [
        "### Slicing Lists\n",
        "\n",
        "There are many things you can do with list indexing, like slicing. Slicing consists of taking a section of a list, using the list index to pick out a range of list items. For example, you could take out the first two items of a list with a slice that begins with 0 and ends with 2.\n",
        "\n",
        "The slice syntax consists of square brackets, start point and end point, and a colon to indicate the gap in between. This should print out the first two items of your list. Go ahead and add the following line to the code below to see slicing in action:\n",
        "\n",
        "```python\n",
        "print(cities[0:2])\n",
        "```\n",
        "\n",
        "Note a couple of things. First, the start point is **inclusive**, meaning that Python will include the `[0]` item in your range, and the end point is exclusive, so Python won't print the `[2]` item. Instead, it will print everything up until that `[2]` item.\n",
        "\n",
        "For ultimate brevity, you can also write this expression as:\n",
        "\n",
        "```python\n",
        "print(cities[:2])\n",
        "```\n",
        "\n",
        "The empty value before the colon allows Python to assume the range starts at the first list item, at `[0]`. You can also end the slice with `:` if you want the list range to include all subsequent items until the end of the list.\n",
        "\n",
        "The example below will print everything from the second item to the end of the list.\n",
        "\n",
        "```python\n",
        "print(cities[1:])\n",
        "```\n"
      ],
      "metadata": {
        "id": "0t1iY90n-JOb"
      }
    },
    {
      "cell_type": "code",
      "source": [
        "cities[0:2]"
      ],
      "metadata": {
        "id": "CWeR1YaK-qMn",
        "colab": {
          "base_uri": "https://localhost:8080/"
        },
        "outputId": "33f36526-8c50-4be3-cf1a-7974218189c4"
      },
      "execution_count": 119,
      "outputs": [
        {
          "output_type": "execute_result",
          "data": {
            "text/plain": [
              "['Paris', 'New York']"
            ]
          },
          "metadata": {},
          "execution_count": 119
        }
      ]
    },
    {
      "cell_type": "markdown",
      "source": [
        "*Position 2 is not called - it calls only 0 and 1*"
      ],
      "metadata": {
        "id": "_h28BxM7e5JM"
      }
    },
    {
      "cell_type": "code",
      "source": [
        "cities[:2]"
      ],
      "metadata": {
        "id": "6wnjo2hk-8eo",
        "colab": {
          "base_uri": "https://localhost:8080/"
        },
        "outputId": "3a5ee092-7670-4610-ca82-ba344f28a79f"
      },
      "execution_count": 116,
      "outputs": [
        {
          "output_type": "execute_result",
          "data": {
            "text/plain": [
              "['Paris', 'New York']"
            ]
          },
          "metadata": {},
          "execution_count": 116
        }
      ]
    },
    {
      "cell_type": "code",
      "source": [
        "cities[1:]"
      ],
      "metadata": {
        "id": "Aa1TlWVF-_fx",
        "colab": {
          "base_uri": "https://localhost:8080/"
        },
        "outputId": "4c9dc6f3-ca0d-49fc-a220-ab09ee1a0fbe"
      },
      "execution_count": 117,
      "outputs": [
        {
          "output_type": "execute_result",
          "data": {
            "text/plain": [
              "['New York', 'London', 'Tokyo', 'Istanbul']"
            ]
          },
          "metadata": {},
          "execution_count": 117
        }
      ]
    },
    {
      "cell_type": "markdown",
      "source": [
        "#### Challenge!\n",
        "\n",
        "Create a new list with at least 5 items in your list. Make sure the total number of items in the list is an odd number. How do you get python to print out the item in the middle of the list? What about the items books in the middle? Remember that the first value in a slice is inclusive, and the final value is exclusive."
      ],
      "metadata": {
        "id": "nEMjGRkIAUw1"
      }
    },
    {
      "cell_type": "code",
      "source": [],
      "metadata": {
        "id": "8JLysWP8AsAe"
      },
      "execution_count": null,
      "outputs": []
    },
    {
      "cell_type": "markdown",
      "source": [
        "### List Methods\n",
        "\n",
        "Lists also have a number of special methods that can be used with them, such as a method for adding items to a list.\n",
        "\n",
        "| **List Method** | **Explanation**                                                                                   |\n",
        "|-------------|---------------------------------------------------------------------------------------------------|\n",
        "| `list.append(another_item)`          | adds new item to end of list                                                                                |\n",
        "| `list.extend(another_list)`        | adds items from another_list to list                                                |\n",
        "| `list.remove(item)`        | removes first instance of item                                                       |\n",
        "| `list.sort(reverse=False)`       | sort the order of list                                                                                 |                                                     |\n",
        "| `list.reverse()`       | reverses order of list                                                                                 |                                                     |\n",
        "\n"
      ],
      "metadata": {
        "id": "8HdX97dMBr_n"
      }
    },
    {
      "cell_type": "markdown",
      "source": [
        "#### Add item to list:"
      ],
      "metadata": {
        "id": "PdsksLBdDO8L"
      }
    },
    {
      "cell_type": "code",
      "source": [
        "cities"
      ],
      "metadata": {
        "id": "Bn0F4EBkCmkI",
        "colab": {
          "base_uri": "https://localhost:8080/"
        },
        "outputId": "3cd2acc1-3bbf-4aa3-8058-7969cd665547"
      },
      "execution_count": 122,
      "outputs": [
        {
          "output_type": "execute_result",
          "data": {
            "text/plain": [
              "['Paris',\n",
              " 'New York',\n",
              " 'London',\n",
              " 'Tokyo',\n",
              " 'Istanbul',\n",
              " 'Copenhagen',\n",
              " 'Copenhagen']"
            ]
          },
          "metadata": {},
          "execution_count": 122
        }
      ]
    },
    {
      "cell_type": "code",
      "source": [
        "cities.remove('Copenhagen')\n",
        "cities"
      ],
      "metadata": {
        "colab": {
          "base_uri": "https://localhost:8080/"
        },
        "id": "Ho1BjRQqgIaZ",
        "outputId": "a3611013-7512-437f-ffaf-74293c0a7074"
      },
      "execution_count": 129,
      "outputs": [
        {
          "output_type": "execute_result",
          "data": {
            "text/plain": [
              "['Paris',\n",
              " 'New York',\n",
              " 'London',\n",
              " 'Tokyo',\n",
              " 'Istanbul',\n",
              " 'Copenhagen',\n",
              " 'Japan',\n",
              " 'France',\n",
              " 'USA',\n",
              " 'Kenya',\n",
              " 'UK',\n",
              " 'Turkey',\n",
              " 'Japan',\n",
              " 'France',\n",
              " 'USA',\n",
              " 'Kenya',\n",
              " 'UK',\n",
              " 'Turkey',\n",
              " 'Japan',\n",
              " 'France',\n",
              " 'USA',\n",
              " 'Kenya',\n",
              " 'UK',\n",
              " 'Turkey',\n",
              " 'Japan',\n",
              " 'France',\n",
              " 'USA',\n",
              " 'Kenya',\n",
              " 'UK',\n",
              " 'Turkey']"
            ]
          },
          "metadata": {},
          "execution_count": 129
        }
      ]
    },
    {
      "cell_type": "code",
      "source": [
        "countries = ['Japan', 'France', 'USA', 'Kenya', 'UK', 'Turkey']"
      ],
      "metadata": {
        "id": "hs6Y6hH4f-oH"
      },
      "execution_count": 125,
      "outputs": []
    },
    {
      "cell_type": "code",
      "source": [
        "cities_countries = cities.extend(countries)\n",
        "print(cities)"
      ],
      "metadata": {
        "colab": {
          "base_uri": "https://localhost:8080/"
        },
        "id": "7UpKR0K9gWXI",
        "outputId": "efccb1ae-6525-4963-dd78-e98d7029f686"
      },
      "execution_count": 128,
      "outputs": [
        {
          "output_type": "stream",
          "name": "stdout",
          "text": [
            "None\n"
          ]
        }
      ]
    },
    {
      "cell_type": "markdown",
      "source": [
        "#### Sort List:"
      ],
      "metadata": {
        "id": "xNbtnfdgCwp8"
      }
    },
    {
      "cell_type": "code",
      "source": [
        "cities.sort()\n",
        "cities"
      ],
      "metadata": {
        "id": "BZjxk--pCzSi",
        "colab": {
          "base_uri": "https://localhost:8080/"
        },
        "outputId": "f964f5a3-d909-47e4-f877-acf4a3ed81a6"
      },
      "execution_count": 130,
      "outputs": [
        {
          "output_type": "execute_result",
          "data": {
            "text/plain": [
              "['Copenhagen',\n",
              " 'France',\n",
              " 'France',\n",
              " 'France',\n",
              " 'France',\n",
              " 'Istanbul',\n",
              " 'Japan',\n",
              " 'Japan',\n",
              " 'Japan',\n",
              " 'Japan',\n",
              " 'Kenya',\n",
              " 'Kenya',\n",
              " 'Kenya',\n",
              " 'Kenya',\n",
              " 'London',\n",
              " 'New York',\n",
              " 'Paris',\n",
              " 'Tokyo',\n",
              " 'Turkey',\n",
              " 'Turkey',\n",
              " 'Turkey',\n",
              " 'Turkey',\n",
              " 'UK',\n",
              " 'UK',\n",
              " 'UK',\n",
              " 'UK',\n",
              " 'USA',\n",
              " 'USA',\n",
              " 'USA',\n",
              " 'USA']"
            ]
          },
          "metadata": {},
          "execution_count": 130
        }
      ]
    },
    {
      "cell_type": "code",
      "source": [
        "cities.reverse()\n",
        "cities"
      ],
      "metadata": {
        "id": "7atpRE__C-1I",
        "colab": {
          "base_uri": "https://localhost:8080/"
        },
        "outputId": "99a1dc8b-ede7-4fcb-eeff-bee00d5d3ef3"
      },
      "execution_count": 131,
      "outputs": [
        {
          "output_type": "execute_result",
          "data": {
            "text/plain": [
              "['USA',\n",
              " 'USA',\n",
              " 'USA',\n",
              " 'USA',\n",
              " 'UK',\n",
              " 'UK',\n",
              " 'UK',\n",
              " 'UK',\n",
              " 'Turkey',\n",
              " 'Turkey',\n",
              " 'Turkey',\n",
              " 'Turkey',\n",
              " 'Tokyo',\n",
              " 'Paris',\n",
              " 'New York',\n",
              " 'London',\n",
              " 'Kenya',\n",
              " 'Kenya',\n",
              " 'Kenya',\n",
              " 'Kenya',\n",
              " 'Japan',\n",
              " 'Japan',\n",
              " 'Japan',\n",
              " 'Japan',\n",
              " 'Istanbul',\n",
              " 'France',\n",
              " 'France',\n",
              " 'France',\n",
              " 'France',\n",
              " 'Copenhagen']"
            ]
          },
          "metadata": {},
          "execution_count": 131
        }
      ]
    },
    {
      "cell_type": "code",
      "source": [
        "cities.remove()"
      ],
      "metadata": {
        "id": "OlqYV7vmhSwD"
      },
      "execution_count": null,
      "outputs": []
    },
    {
      "cell_type": "markdown",
      "source": [
        "#### Extend List With Another List:"
      ],
      "metadata": {
        "id": "3FpF7-8GDLHd"
      }
    },
    {
      "cell_type": "code",
      "source": [
        "countries=['Japan', 'France', 'USA', 'Kenya', 'UK', 'Turkey']"
      ],
      "metadata": {
        "id": "BSuzYtsoDNR2"
      },
      "execution_count": 132,
      "outputs": []
    },
    {
      "cell_type": "code",
      "source": [
        "countries.extend(cities)"
      ],
      "metadata": {
        "id": "brenn0rgDkEH"
      },
      "execution_count": null,
      "outputs": []
    },
    {
      "cell_type": "code",
      "source": [
        "countries"
      ],
      "metadata": {
        "id": "p4K_OE7GDtvh",
        "colab": {
          "base_uri": "https://localhost:8080/"
        },
        "outputId": "e7ccbf3a-1c00-4fae-9e47-8ea11d2d7f8d"
      },
      "execution_count": 133,
      "outputs": [
        {
          "output_type": "execute_result",
          "data": {
            "text/plain": [
              "['Japan', 'France', 'USA', 'Kenya', 'UK', 'Turkey']"
            ]
          },
          "metadata": {},
          "execution_count": 133
        }
      ]
    },
    {
      "cell_type": "markdown",
      "source": [
        "## Loops\n",
        "\n",
        "What if we want to print out each item in the list separately? For that, we'll need something called a `loop`.\n",
        "\n",
        "Add the following lines of code to the block below:\n",
        "\n",
        "```python\n",
        "for city in cities:\n",
        "    print(\"My favorite city is \" + city)\n",
        "```\n",
        "\n"
      ],
      "metadata": {
        "id": "ym0dCPUwAt6n"
      }
    },
    {
      "cell_type": "code",
      "source": [
        "for city in cities:\n",
        "    print(\"My favorite city is \" + city)"
      ],
      "metadata": {
        "id": "S9PGP0vLFSNY",
        "colab": {
          "base_uri": "https://localhost:8080/"
        },
        "outputId": "5668940c-1ed6-483d-cbcf-e28d14a8cbd0"
      },
      "execution_count": 134,
      "outputs": [
        {
          "output_type": "stream",
          "name": "stdout",
          "text": [
            "My favorite city is USA\n",
            "My favorite city is USA\n",
            "My favorite city is USA\n",
            "My favorite city is USA\n",
            "My favorite city is UK\n",
            "My favorite city is UK\n",
            "My favorite city is UK\n",
            "My favorite city is UK\n",
            "My favorite city is Turkey\n",
            "My favorite city is Turkey\n",
            "My favorite city is Turkey\n",
            "My favorite city is Turkey\n",
            "My favorite city is Tokyo\n",
            "My favorite city is Paris\n",
            "My favorite city is New York\n",
            "My favorite city is London\n",
            "My favorite city is Kenya\n",
            "My favorite city is Kenya\n",
            "My favorite city is Kenya\n",
            "My favorite city is Kenya\n",
            "My favorite city is Japan\n",
            "My favorite city is Japan\n",
            "My favorite city is Japan\n",
            "My favorite city is Japan\n",
            "My favorite city is Istanbul\n",
            "My favorite city is France\n",
            "My favorite city is France\n",
            "My favorite city is France\n",
            "My favorite city is France\n",
            "My favorite city is Copenhagen\n"
          ]
        }
      ]
    },
    {
      "cell_type": "markdown",
      "source": [
        "### For Loops\n",
        "What's happening here? This kind of loop is called a `for loop`, and tells Python: \"for each item in the list, do something.\"\n",
        "\n",
        "A basic basic for loop will consist of two lines:\n",
        "- On the first line, you type the English word for, a new variable name for each item in the list, the English word in, the name of the list, and a colon (:)\n",
        "- On the second line, you indent and write an instruction or “statement” to be completed for each item in the list\n",
        "\n",
        "Let's break it down:\n",
        "\n",
        "```python\n",
        "for <variable name> in <list name>:\n",
        "    <do something>\n",
        "```\n",
        "\n",
        "Indented code like this is known as a \"code block.\" Python will run the `<do something>` code in the code block once for each item in the list. You can also refer to `<variable name>` in the `<do something>` block.\n",
        "\n",
        "You can also loop through items within a string. Type the following code into the editor below:\n",
        "\n",
        "```python\n",
        "for letter in \"hello\":\n",
        "    print(letter)\n",
        "```"
      ],
      "metadata": {
        "id": "jUaG0uRuA_Jt"
      }
    },
    {
      "cell_type": "code",
      "source": [
        "for letter in \"hello\":\n",
        "    print(letter)"
      ],
      "metadata": {
        "id": "nq4OR4yTBN6Y",
        "colab": {
          "base_uri": "https://localhost:8080/"
        },
        "outputId": "b565b511-7a50-47ae-9117-7c0e0b6dc70e"
      },
      "execution_count": 135,
      "outputs": [
        {
          "output_type": "stream",
          "name": "stdout",
          "text": [
            "h\n",
            "e\n",
            "l\n",
            "l\n",
            "o\n"
          ]
        }
      ]
    },
    {
      "cell_type": "markdown",
      "source": [
        "#### Challenge!\n",
        "\n",
        "Here's a list of numbers:\n",
        "\n",
        "```python\n",
        "prime_numbers = [2, 3, 5, 7, 11]\n",
        "```\n",
        "\n",
        "Write some code to print out the square of each of these numbers. Remember that the square of a number is that number times itself."
      ],
      "metadata": {
        "id": "x847JW6_BYM4"
      }
    },
    {
      "cell_type": "code",
      "source": [
        "prime_numbers = [2, 3, 5, 7, 11]\n",
        "for number in prime_numbers:\n",
        "  print(number **2)\n"
      ],
      "metadata": {
        "id": "u4NgYV1bB2VQ",
        "colab": {
          "base_uri": "https://localhost:8080/"
        },
        "outputId": "b84b50bc-bd2e-443d-ff51-a600b61298af"
      },
      "execution_count": 140,
      "outputs": [
        {
          "output_type": "stream",
          "name": "stdout",
          "text": [
            "4\n",
            "9\n",
            "25\n",
            "49\n",
            "121\n"
          ]
        }
      ]
    },
    {
      "cell_type": "markdown",
      "source": [
        "Now try writing a for loop using an f-string (see above for definition) to get the following output:\n",
        "\n",
        "```python\n",
        "The square of 2 is 4.\n",
        "The square of 3 is 9.\n",
        "The square of 5 is 25.\n",
        "The square of 7 is 49.\n",
        "The square of 11 is 121.\n",
        "```\n"
      ],
      "metadata": {
        "id": "g-Yov38iCFya"
      }
    },
    {
      "cell_type": "code",
      "source": [
        "for number in prime_numbers:\n",
        "  print(f\"The square of {number} is {number**2}.\")"
      ],
      "metadata": {
        "id": "7V3ct7F7CSrQ",
        "colab": {
          "base_uri": "https://localhost:8080/"
        },
        "outputId": "1ded0408-f2d3-4fd7-99fc-ccf8f5f1f151"
      },
      "execution_count": 141,
      "outputs": [
        {
          "output_type": "stream",
          "name": "stdout",
          "text": [
            "The square of 2 is 4.\n",
            "The square of 3 is 9.\n",
            "The square of 5 is 25.\n",
            "The square of 7 is 49.\n",
            "The square of 11 is 121.\n"
          ]
        }
      ]
    },
    {
      "cell_type": "markdown",
      "source": [
        "### Enumerate Loops\n",
        "You might want to keep a numerical count or index of items in a list. To print out each item in the list with a corresponding number, you can use the built-in Python function `enumerate()`.\n",
        "\n",
        "To access the number that corresponds to each item, you need to unpack two variables instead of just one: `number` , `city`\n",
        "\n",
        "Let's first take a look at our cities list again. Then, we can write our indexed for loop:"
      ],
      "metadata": {
        "id": "ry8S6bk5FLFk"
      }
    },
    {
      "cell_type": "code",
      "source": [
        "cities"
      ],
      "metadata": {
        "id": "4dDHWtPAFXoQ",
        "colab": {
          "base_uri": "https://localhost:8080/"
        },
        "outputId": "82e0496b-ee79-4867-e334-61011f8f4974"
      },
      "execution_count": 146,
      "outputs": [
        {
          "output_type": "execute_result",
          "data": {
            "text/plain": [
              "['Copenhagen',\n",
              " 'France',\n",
              " 'France',\n",
              " 'France',\n",
              " 'France',\n",
              " 'Istanbul',\n",
              " 'Japan',\n",
              " 'Japan',\n",
              " 'Japan',\n",
              " 'Japan',\n",
              " 'Kenya',\n",
              " 'Kenya',\n",
              " 'Kenya',\n",
              " 'Kenya',\n",
              " 'London',\n",
              " 'New York',\n",
              " 'Paris',\n",
              " 'Tokyo',\n",
              " 'Turkey',\n",
              " 'Turkey',\n",
              " 'Turkey',\n",
              " 'Turkey',\n",
              " 'UK',\n",
              " 'UK',\n",
              " 'UK',\n",
              " 'UK',\n",
              " 'USA',\n",
              " 'USA',\n",
              " 'USA',\n",
              " 'USA']"
            ]
          },
          "metadata": {},
          "execution_count": 146
        }
      ]
    },
    {
      "cell_type": "code",
      "source": [
        "for number, city in enumerate(cities):\n",
        "    print(number, city)"
      ],
      "metadata": {
        "id": "jdy2oLPPFZSl",
        "colab": {
          "base_uri": "https://localhost:8080/"
        },
        "outputId": "0b19d4c9-ebe2-44a2-ce9d-4a2b744c940d"
      },
      "execution_count": 145,
      "outputs": [
        {
          "output_type": "stream",
          "name": "stdout",
          "text": [
            "0 Copenhagen\n",
            "1 France\n",
            "2 France\n",
            "3 France\n",
            "4 France\n",
            "5 Istanbul\n",
            "6 Japan\n",
            "7 Japan\n",
            "8 Japan\n",
            "9 Japan\n",
            "10 Kenya\n",
            "11 Kenya\n",
            "12 Kenya\n",
            "13 Kenya\n",
            "14 London\n",
            "15 New York\n",
            "16 Paris\n",
            "17 Tokyo\n",
            "18 Turkey\n",
            "19 Turkey\n",
            "20 Turkey\n",
            "21 Turkey\n",
            "22 UK\n",
            "23 UK\n",
            "24 UK\n",
            "25 UK\n",
            "26 USA\n",
            "27 USA\n",
            "28 USA\n",
            "29 USA\n"
          ]
        }
      ]
    },
    {
      "cell_type": "markdown",
      "source": [
        "#### Challenge!\n",
        "\n",
        "Write a for loop using an f-string to get the following output:\n",
        "\n",
        "```python\n",
        "Tokyo is indexed at 0\n",
        "Paris is indexed at 1\n",
        "New York is indexed at 2\n",
        "Nairobi is indexed at 3\n",
        "London is indexed at 4\n",
        "Istanbul is indexed at 5\n",
        "```"
      ],
      "metadata": {
        "id": "yyofKiKVNxKU"
      }
    },
    {
      "cell_type": "code",
      "source": [
        "for city in enumerate(cities):\n",
        "  print(f\"{city[1]} is indexed at {city[0]}\")"
      ],
      "metadata": {
        "id": "jqhqXd2uGFu6",
        "colab": {
          "base_uri": "https://localhost:8080/"
        },
        "outputId": "908bfed4-fb89-4261-c209-9b7c2acfd3c1"
      },
      "execution_count": 152,
      "outputs": [
        {
          "output_type": "stream",
          "name": "stdout",
          "text": [
            "Copenhagen is indexed at 0\n",
            "France is indexed at 1\n",
            "France is indexed at 2\n",
            "France is indexed at 3\n",
            "France is indexed at 4\n",
            "Istanbul is indexed at 5\n",
            "Japan is indexed at 6\n",
            "Japan is indexed at 7\n",
            "Japan is indexed at 8\n",
            "Japan is indexed at 9\n",
            "Kenya is indexed at 10\n",
            "Kenya is indexed at 11\n",
            "Kenya is indexed at 12\n",
            "Kenya is indexed at 13\n",
            "London is indexed at 14\n",
            "New York is indexed at 15\n",
            "Paris is indexed at 16\n",
            "Tokyo is indexed at 17\n",
            "Turkey is indexed at 18\n",
            "Turkey is indexed at 19\n",
            "Turkey is indexed at 20\n",
            "Turkey is indexed at 21\n",
            "UK is indexed at 22\n",
            "UK is indexed at 23\n",
            "UK is indexed at 24\n",
            "UK is indexed at 25\n",
            "USA is indexed at 26\n",
            "USA is indexed at 27\n",
            "USA is indexed at 28\n",
            "USA is indexed at 29\n"
          ]
        }
      ]
    },
    {
      "cell_type": "markdown",
      "source": [
        "### Build a List with a For Loop\n",
        "We can also make lists with for loops. Let’s say we wanted to take this list collection and create a new list that only contains the items in the list that match `'item we want'`."
      ],
      "metadata": {
        "id": "K1ruzOAaPEJf"
      }
    },
    {
      "cell_type": "code",
      "source": [
        "collection = ['item', 'item we want', 'item', 'item', 'item we want']"
      ],
      "metadata": {
        "id": "bxwNuCS6PIDA"
      },
      "execution_count": null,
      "outputs": []
    },
    {
      "cell_type": "markdown",
      "source": [
        "To do so, we could make an empty list by assigning `empty_list` the value of `[]`—that is, a list with nothing inside of it.\n",
        "Then, we could use a for loop to iterate through collection. If an item equals `\"item we want\"`, then we will `.append()` that item to our previously empty list.\n",
        "\n"
      ],
      "metadata": {
        "id": "Ob3LY9sFPKwo"
      }
    },
    {
      "cell_type": "code",
      "source": [
        "empty_list = []\n",
        "for item in collection:\n",
        "    if item == \"item we want\":\n",
        "        empty_list.append(item)"
      ],
      "metadata": {
        "id": "eBZoctNiPO8b"
      },
      "execution_count": null,
      "outputs": []
    },
    {
      "cell_type": "code",
      "source": [
        "empty_list"
      ],
      "metadata": {
        "id": "Gu8qITG9Pmbv"
      },
      "execution_count": null,
      "outputs": []
    },
    {
      "cell_type": "markdown",
      "source": [
        "## Comparisons\n",
        "\n",
        "There are many ways that we can compare values with Python, such as equals (`==`), not equals (`!=`), greater than (`>`), less than (`<`), greater than or equal to (`>=`), or less than or equal to (`<=`).\n",
        "\n",
        "| **Comparison Operator** | **Explanation**                                                                                   |\n",
        "|:-------------:|:---------------------------------------------------------------------------------------------------:|\n",
        "| `x == y `         | `True` if x is equal to y                                                                                |\n",
        "| `x != y `         | `True` if x is not equal to y                                               |\n",
        "| `x > y`       |  `True` if x is greater than y                                                        |\n",
        "| `x < y`       |   `True` if x is less than y  \n",
        "| `x >= y`       |   `True` if x is greater than or equal to y |\n",
        "| `x <= y`      | `True` if x is less than or equal to y`                                                                             |\n",
        "                                                                      \n",
        "                                                          "
      ],
      "metadata": {
        "id": "_lQhX8TxQf03"
      }
    },
    {
      "cell_type": "markdown",
      "source": [
        "### Greater Than\n",
        "\n",
        "Is the variable `person1` greater than `person1`?\n"
      ],
      "metadata": {
        "id": "HFTdCfjdEXU1"
      }
    },
    {
      "cell_type": "code",
      "source": [
        "person1 = 30\n",
        "person2 = 30.5\n",
        "person1 > person2"
      ],
      "metadata": {
        "id": "uCpClpaLROfy"
      },
      "execution_count": null,
      "outputs": []
    },
    {
      "cell_type": "markdown",
      "source": [
        "### Not Equals\n",
        "Is the variable `person1` not equal to `person1`?"
      ],
      "metadata": {
        "id": "Y1yBhpIIRWOw"
      }
    },
    {
      "cell_type": "code",
      "source": [
        "person1 = 30\n",
        "person2 = 30.5\n",
        "person1 != person2"
      ],
      "metadata": {
        "id": "Jcd8xwQnRaGw"
      },
      "execution_count": null,
      "outputs": []
    },
    {
      "cell_type": "markdown",
      "source": [
        "We can also combine values and compare them. We can check to see if `x and y` are both `True` or if either `x or y` is `True`."
      ],
      "metadata": {
        "id": "8Xe-jl3JRhLK"
      }
    },
    {
      "cell_type": "markdown",
      "source": [
        "| **Logical Operator** | **Explanation**                                                                                   |\n",
        "|:-------------:|:---------------------------------------------------------------------------------------------------:|\n",
        "| `x and y`         | `True` if x and y are both True                                                                             |\n",
        "| `x or y`         | `True` if either x or y is True                                              |\n",
        "| `not x`       |  `True` if is x is not True                                                       |\n",
        "                                                  \n",
        "\n",
        "### And\n",
        "What will happen if we check whether `person1 > 30` and `person2 > 30`?"
      ],
      "metadata": {
        "id": "QlRO6pLRRhTK"
      }
    },
    {
      "cell_type": "code",
      "source": [
        "person1 = 30\n",
        "person2 = 30.5\n",
        "person1 > 30 and person2 > 30"
      ],
      "metadata": {
        "id": "-P7FAwn6RtwU"
      },
      "execution_count": null,
      "outputs": []
    },
    {
      "cell_type": "markdown",
      "source": [
        "The boolean answer is `False` because `person1` is not greater than 30 (`person1` is exactly 30) even though `person2` is greater than 30. The `and` requires that both conditions are `True.`"
      ],
      "metadata": {
        "id": "gatZx9HUR08r"
      }
    },
    {
      "cell_type": "code",
      "source": [
        "person1 = 30\n",
        "person2 = 30.5\n",
        "person1 >= 30 and person2 >= 30"
      ],
      "metadata": {
        "id": "6Asbio-JR3Zm"
      },
      "execution_count": null,
      "outputs": []
    },
    {
      "cell_type": "markdown",
      "source": [
        "The boolean answer is `True` because `person1` is greater than or equal to 30 and `person2` is greater or equal to  30. The `and` requires that both conditions are `True.`\n",
        "\n",
        "### Or\n",
        "What will happen if we check whether `person1 > 30` or `person2 > 30`?"
      ],
      "metadata": {
        "id": "uTcOuSQGR4Yj"
      }
    },
    {
      "cell_type": "code",
      "source": [
        "person1 = 30\n",
        "person2 = 30.5\n",
        "person1 > 30 or person2 > 30"
      ],
      "metadata": {
        "id": "Z29_ilEISEFh"
      },
      "execution_count": null,
      "outputs": []
    },
    {
      "cell_type": "markdown",
      "source": [
        "The boolean answer is `True` because `person2` is greater than 30. The `or` requires that only one of the conditions is true."
      ],
      "metadata": {
        "id": "3_6mzR4bSFuX"
      }
    },
    {
      "cell_type": "markdown",
      "source": [
        "## Conditionals\n"
      ],
      "metadata": {
        "id": "tb0O72a2SRid"
      }
    },
    {
      "cell_type": "markdown",
      "source": [
        "### If Statement\n",
        "\n",
        "An `if` statement is an instruction to do something *if* a particular condition is met.\n",
        "\n",
        "A common conditional will consist of two lines:\n",
        "- On the first line, you type the English word `if` followed by an expression and then a colon (`:`)\n",
        "- On the second line, you indent and write an instruction or \"statement\" to be completed if the condition is met"
      ],
      "metadata": {
        "id": "eaYViW5-EfgJ"
      }
    },
    {
      "cell_type": "code",
      "source": [
        "greatest_city = \"New York\""
      ],
      "metadata": {
        "id": "arbk3vmMSV1L"
      },
      "execution_count": 153,
      "outputs": []
    },
    {
      "cell_type": "code",
      "source": [
        "if greatest_city == \"New York\":\n",
        "    print(\"That's right!\")"
      ],
      "metadata": {
        "id": "NuYC2U1ISlLt",
        "colab": {
          "base_uri": "https://localhost:8080/"
        },
        "outputId": "7ee7a9e0-e6c3-427e-c709-357889be3adc"
      },
      "execution_count": 154,
      "outputs": [
        {
          "output_type": "stream",
          "name": "stdout",
          "text": [
            "That's right!\n"
          ]
        }
      ]
    },
    {
      "cell_type": "markdown",
      "source": [
        "Python is picky about how you format `if` statements. Look what happens if we forget to tab over on the second line or if we forget the colon:"
      ],
      "metadata": {
        "id": "4SN3TCkCSycN"
      }
    },
    {
      "cell_type": "code",
      "source": [
        "if greatest_city == \"New York\":\n",
        "print(\"That's right!\")"
      ],
      "metadata": {
        "id": "4SHye6pRSzql"
      },
      "execution_count": null,
      "outputs": []
    },
    {
      "cell_type": "code",
      "source": [
        "if greatest_city == \"New York\"\n",
        "    print(\"That's right!\")"
      ],
      "metadata": {
        "id": "SWPJtnLPS6Y8"
      },
      "execution_count": null,
      "outputs": []
    },
    {
      "cell_type": "markdown",
      "source": [
        "### Else Statement\n",
        "You can add even more complexity in a conditional by adding an `else` statement. This will instruct the program to do something in case the condition is not met. An `else` comes after an `if` statement and should be formatted it the same way."
      ],
      "metadata": {
        "id": "aqCjCQaRTEW8"
      }
    },
    {
      "cell_type": "code",
      "source": [
        "greatest_city = \"New York\""
      ],
      "metadata": {
        "id": "pPwvNExzTPTx"
      },
      "execution_count": 162,
      "outputs": []
    },
    {
      "cell_type": "code",
      "source": [
        "if greatest_city == \"New York\":\n",
        "    print(\"That's right!\")\n",
        "elif greatest_city == \"Paris\":\n",
        "    print(\"Ok we'll take it!\")\n",
        "else:\n",
        "    print(\"Prove it!\")"
      ],
      "metadata": {
        "id": "C7awjGJfTV9l",
        "colab": {
          "base_uri": "https://localhost:8080/"
        },
        "outputId": "4a980b22-8377-4d52-e63a-fc7e4bd04de0"
      },
      "execution_count": 163,
      "outputs": [
        {
          "output_type": "stream",
          "name": "stdout",
          "text": [
            "That's right!\n"
          ]
        }
      ]
    },
    {
      "cell_type": "markdown",
      "source": [
        "### Elif Statement\n",
        "\n",
        "Sometimes you want even more nuance to respond to slightly different conditions.\n",
        "\n",
        "You can add in this nuance with an `elif` statement, short for *else if*. The computer will evaluate the first `if` statement. If that statement is not `True`, it will then evaluate the `elif` statement."
      ],
      "metadata": {
        "id": "jXBiNOLHUaJ8"
      }
    },
    {
      "cell_type": "code",
      "source": [
        "greatest_city = \"Paris\""
      ],
      "metadata": {
        "id": "Lc9xO7IQUpVh"
      },
      "execution_count": null,
      "outputs": []
    },
    {
      "cell_type": "code",
      "source": [
        "if greatest_city == \"New York\":\n",
        "    print(\"That's right!\")\n",
        "elif greatest_city == \"Paris\":\n",
        "    print(\"Ok we'll take it!\")\n",
        "else:\n",
        "    print(\"Prove it!\")"
      ],
      "metadata": {
        "id": "8J1OiHb7Upor"
      },
      "execution_count": null,
      "outputs": []
    },
    {
      "cell_type": "markdown",
      "source": [
        "### Input\n",
        "Python allows you to take input directly from the user using the `input()` function.\n",
        "\n",
        "Let's try it out by setting the function to a variable, which we will call greeting. In the line below, write the following line of code:\n",
        "\n",
        "```python\n",
        "greeting = input()\n",
        "```\n",
        "\n",
        "When you press enter, you should see a pop-up asking for input. Type in your favorite greeting. I'm going to type hey you!. Then, press enter."
      ],
      "metadata": {
        "id": "fEnoipDYVeIi"
      }
    },
    {
      "cell_type": "code",
      "source": [
        "greeting = input()"
      ],
      "metadata": {
        "id": "Z8jZ3sPqVthq"
      },
      "execution_count": null,
      "outputs": []
    },
    {
      "cell_type": "markdown",
      "source": [
        "Python has saved your input text to the variable greeting. When you type in greeting, it will print out that input text. Pretty nifty, right?\n",
        "\n",
        "You can add more context to your `input(`) by adding some prompt text within the parentheses. Whatever you put inside the parentheses, enclosed by quotes, will prompt the user to type in their text, which is then assigned to the variable set to `input()`.\n",
        "\n",
        "For instance, if we were to type the following:\n",
        "\n",
        "```python\n",
        "feelings = input('How are you feeling today? ')\n",
        "```\n",
        "We can answer with like a rollercoaster of emotions. Then, when we type in our variable feelings and press enter, we'll get our input printed back at us. Note that there's a little space after the question mark and before the closing quotation mark, which is to improve readability."
      ],
      "metadata": {
        "id": "7LLKIeJ_V3pb"
      }
    },
    {
      "cell_type": "code",
      "source": [
        "feelings = input('How are you feeling today? ')"
      ],
      "metadata": {
        "id": "DCYOfMyCV-bV"
      },
      "execution_count": null,
      "outputs": []
    },
    {
      "cell_type": "code",
      "source": [
        "feelings"
      ],
      "metadata": {
        "id": "iZagOC0KWHTd"
      },
      "execution_count": null,
      "outputs": []
    },
    {
      "cell_type": "markdown",
      "source": [
        "Let's incorporate `input()` into a conditional loop:"
      ],
      "metadata": {
        "id": "nPA9-A6dW2v_"
      }
    },
    {
      "cell_type": "code",
      "source": [
        "feelings = input('How are you feeling today? ')\n",
        "\n",
        "if feelings == \"Great\":\n",
        "  print(\"I'm happy for you!\")\n",
        "elif feelings == \"Sad\":\n",
        "  print(\"Oh no! What can I do to make you feel better?\")\n",
        "else:\n",
        "  print(\"Thanks for sharing!\")\n"
      ],
      "metadata": {
        "id": "dSBfat-rW9GZ"
      },
      "execution_count": null,
      "outputs": []
    },
    {
      "cell_type": "markdown",
      "source": [
        "#### Challenge!\n",
        "\n",
        "Now, that we understand a bit about how `input()` works, let's use it to improve our `greatest_city` application. Use `input()` to ask for the city before displaying the output."
      ],
      "metadata": {
        "id": "yGmNlSg7WMT-"
      }
    },
    {
      "cell_type": "code",
      "source": [
        "#insert input function here\n",
        "\n",
        "if greatest_city == \"New York\":\n",
        "    print(\"That's right!\")\n",
        "elif greatest_city == \"Paris\":\n",
        "    print(\"Ok we'll take it!\")\n",
        "else:\n",
        "    print(\"Prove it!\")"
      ],
      "metadata": {
        "id": "_Fsf_V0IWLNk"
      },
      "execution_count": null,
      "outputs": []
    },
    {
      "cell_type": "markdown",
      "source": [
        "## Common Python Errors"
      ],
      "metadata": {
        "id": "Zgqrxs-l0hAt"
      }
    },
    {
      "cell_type": "markdown",
      "source": [
        "Below are a few common error messages that you will likely encounter as you first learn Python and long afterward. No matter how much you know, you will always encounter errors!\n",
        "\n",
        "To learn more about these and other Python errors, see [Python's official documentation](https://docs.python.org/3/library/exceptions.html#bltin-exceptions)."
      ],
      "metadata": {
        "id": "ywlM8jvDJRS0"
      }
    },
    {
      "cell_type": "markdown",
      "source": [
        "### SyntaxError\n"
      ],
      "metadata": {
        "id": "orWJLsCGJVJs"
      }
    },
    {
      "cell_type": "markdown",
      "source": [
        "A `SyntaxError` means that something has gone wrong with your Python syntax, aka the arrangement of words and punctuation in your code. Often, as below, this error will result from forgetting a closing quotation mark in a string or from forgetting a colon in a `for` loop."
      ],
      "metadata": {
        "id": "sEcJTV5sJZE-"
      }
    },
    {
      "cell_type": "code",
      "source": [
        "print(\"Hope this goes off without a hitch!)"
      ],
      "metadata": {
        "id": "LpS6_7TLJa8Y"
      },
      "execution_count": null,
      "outputs": []
    },
    {
      "cell_type": "code",
      "source": [
        "for item in items\n",
        "    print(item)"
      ],
      "metadata": {
        "id": "ZjtHvKMxJgZd"
      },
      "execution_count": null,
      "outputs": []
    },
    {
      "cell_type": "markdown",
      "source": [
        "The error message will often include a caret or arrow that points to the problematic part of the code."
      ],
      "metadata": {
        "id": "PKGsAi5kJcAw"
      }
    },
    {
      "cell_type": "markdown",
      "source": [
        "### FileNotFound Error\n",
        "A `FileNotFoundError` means that whatever file name you've typed in cannot be located. Often, this error will result from simple typos in the file name or from not pointing to the correct directory which contains the file. Double check your spelling and where your desired file is located relative to your Python code."
      ],
      "metadata": {
        "id": "hpkBYbWaJlX6"
      }
    },
    {
      "cell_type": "code",
      "source": [
        "open('../Wrong-Directory/File-Name.txt').read()"
      ],
      "metadata": {
        "id": "DryA7p6TJuq9"
      },
      "execution_count": null,
      "outputs": []
    },
    {
      "cell_type": "markdown",
      "source": [
        "### TypeError\n",
        "A `TypeError` means that you're trying to perform a function or operation on something that is not the correct data type for that function or operation. For example, if you try to divide by a variable that is a string, rather than an integer or float (as in the example below), a `TypeError` will be thrown. Double check your data types with the `type()` function."
      ],
      "metadata": {
        "id": "fJiqin0rJs4i"
      }
    },
    {
      "cell_type": "code",
      "source": [
        "favorite_city = \"New York\""
      ],
      "metadata": {
        "id": "pTOzBUAmJ3ts"
      },
      "execution_count": null,
      "outputs": []
    },
    {
      "cell_type": "code",
      "source": [
        "favorite_city / 2"
      ],
      "metadata": {
        "id": "2UdeZUo8J5BO"
      },
      "execution_count": null,
      "outputs": []
    },
    {
      "cell_type": "code",
      "source": [
        "type(favorite_city)"
      ],
      "metadata": {
        "id": "n6LdGH5xJ8wG"
      },
      "execution_count": null,
      "outputs": []
    },
    {
      "cell_type": "markdown",
      "source": [
        "### NameError\n",
        "\n",
        "A `NameError` means that the variable name that you're using cannot be found. Often, this error results from forgetting to run the cell that defines your variable or from misspelling the name of your variable, as below. Check your spelling and make sure you've run all necessary cells."
      ],
      "metadata": {
        "id": "70hngInPJ_Oe"
      }
    },
    {
      "cell_type": "code",
      "source": [
        "favorite_city = \"New York\""
      ],
      "metadata": {
        "id": "ApkuxEwiKEz3"
      },
      "execution_count": null,
      "outputs": []
    },
    {
      "cell_type": "code",
      "source": [
        "favorite_citee"
      ],
      "metadata": {
        "id": "hRQ6dWijKG3n"
      },
      "execution_count": null,
      "outputs": []
    },
    {
      "cell_type": "markdown",
      "source": [
        "### AttributeError\n",
        "An `AttributeError` means that you're trying to access something from an object that that object doesn't possess or do something with an object that that object cannot do. For example, to transform the variable `favorite_artist` (which contains the string \"Beyoncé\") from title case to uppercase, we can run `favorite_arist.upper()` because `.upper()` is a built-in string method. But if we forget the name of that string method and instead type `.uppercase()`, which is not an existing string method, then an `AttributeError` will be raised."
      ],
      "metadata": {
        "id": "9EBmUo-gKJm6"
      }
    },
    {
      "cell_type": "code",
      "source": [
        "favorite_city.upper()"
      ],
      "metadata": {
        "id": "4Z0-s35RKNeC"
      },
      "execution_count": null,
      "outputs": []
    },
    {
      "cell_type": "code",
      "source": [
        "favorite_city.uppercase()"
      ],
      "metadata": {
        "id": "7zosEgAYKQ2l"
      },
      "execution_count": null,
      "outputs": []
    }
  ]
}